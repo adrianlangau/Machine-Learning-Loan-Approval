{
 "cells": [
  {
   "cell_type": "code",
   "execution_count": 1,
   "id": "4c58b105-8c49-46b9-8adf-27599af85ed1",
   "metadata": {},
   "outputs": [],
   "source": [
    "# Import all dependencies\n",
    "from pathlib import Path\n",
    "import pandas as pd\n",
    "import numpy as np\n",
    "\n",
    "from sklearn.model_selection import train_test_split\n",
    "from sklearn.linear_model import LogisticRegression\n",
    "from sklearn.metrics import accuracy_score"
   ]
  },
  {
   "cell_type": "code",
   "execution_count": 3,
   "id": "752da72e-6e7f-4bb4-904e-699153c8c816",
   "metadata": {},
   "outputs": [],
   "source": [
    "# Read csv file into pandas dataframe\n",
    "loan_df = pd.read_csv(Path('loans.csv'))"
   ]
  },
  {
   "cell_type": "code",
   "execution_count": 4,
   "id": "85ed389b-6ce9-4606-a9e8-c892b4139b58",
   "metadata": {},
   "outputs": [
    {
     "data": {
      "text/html": [
       "<div>\n",
       "<style scoped>\n",
       "    .dataframe tbody tr th:only-of-type {\n",
       "        vertical-align: middle;\n",
       "    }\n",
       "\n",
       "    .dataframe tbody tr th {\n",
       "        vertical-align: top;\n",
       "    }\n",
       "\n",
       "    .dataframe thead th {\n",
       "        text-align: right;\n",
       "    }\n",
       "</style>\n",
       "<table border=\"1\" class=\"dataframe\">\n",
       "  <thead>\n",
       "    <tr style=\"text-align: right;\">\n",
       "      <th></th>\n",
       "      <th>assets</th>\n",
       "      <th>liabilities</th>\n",
       "      <th>income</th>\n",
       "      <th>credit_score</th>\n",
       "      <th>mortgage</th>\n",
       "      <th>status</th>\n",
       "    </tr>\n",
       "  </thead>\n",
       "  <tbody>\n",
       "    <tr>\n",
       "      <th>0</th>\n",
       "      <td>0.210859</td>\n",
       "      <td>0.452865</td>\n",
       "      <td>0.281367</td>\n",
       "      <td>0.628039</td>\n",
       "      <td>0.302682</td>\n",
       "      <td>deny</td>\n",
       "    </tr>\n",
       "    <tr>\n",
       "      <th>1</th>\n",
       "      <td>0.395018</td>\n",
       "      <td>0.661153</td>\n",
       "      <td>0.330622</td>\n",
       "      <td>0.638439</td>\n",
       "      <td>0.502831</td>\n",
       "      <td>approve</td>\n",
       "    </tr>\n",
       "    <tr>\n",
       "      <th>2</th>\n",
       "      <td>0.291186</td>\n",
       "      <td>0.593432</td>\n",
       "      <td>0.438436</td>\n",
       "      <td>0.434863</td>\n",
       "      <td>0.315574</td>\n",
       "      <td>approve</td>\n",
       "    </tr>\n",
       "    <tr>\n",
       "      <th>3</th>\n",
       "      <td>0.458640</td>\n",
       "      <td>0.576156</td>\n",
       "      <td>0.744167</td>\n",
       "      <td>0.291324</td>\n",
       "      <td>0.394891</td>\n",
       "      <td>approve</td>\n",
       "    </tr>\n",
       "    <tr>\n",
       "      <th>4</th>\n",
       "      <td>0.463470</td>\n",
       "      <td>0.292414</td>\n",
       "      <td>0.489887</td>\n",
       "      <td>0.811384</td>\n",
       "      <td>0.566605</td>\n",
       "      <td>approve</td>\n",
       "    </tr>\n",
       "  </tbody>\n",
       "</table>\n",
       "</div>"
      ],
      "text/plain": [
       "     assets  liabilities    income  credit_score  mortgage   status\n",
       "0  0.210859     0.452865  0.281367      0.628039  0.302682     deny\n",
       "1  0.395018     0.661153  0.330622      0.638439  0.502831  approve\n",
       "2  0.291186     0.593432  0.438436      0.434863  0.315574  approve\n",
       "3  0.458640     0.576156  0.744167      0.291324  0.394891  approve\n",
       "4  0.463470     0.292414  0.489887      0.811384  0.566605  approve"
      ]
     },
     "execution_count": 4,
     "metadata": {},
     "output_type": "execute_result"
    }
   ],
   "source": [
    "# Display loan_df\n",
    "loan_df.head()"
   ]
  },
  {
   "cell_type": "code",
   "execution_count": 6,
   "id": "db9b6da5-507b-4d57-a6e6-a7b392b8339b",
   "metadata": {},
   "outputs": [
    {
     "data": {
      "text/plain": [
       "(100, 6)"
      ]
     },
     "execution_count": 6,
     "metadata": {},
     "output_type": "execute_result"
    }
   ],
   "source": [
    "# Check data shape\n",
    "loan_df.shape"
   ]
  },
  {
   "cell_type": "code",
   "execution_count": 8,
   "id": "e7e65ae6-f347-4279-a08e-dff5c891ff8e",
   "metadata": {},
   "outputs": [
    {
     "data": {
      "text/plain": [
       "assets          0\n",
       "liabilities     0\n",
       "income          0\n",
       "credit_score    0\n",
       "mortgage        0\n",
       "status          0\n",
       "dtype: int64"
      ]
     },
     "execution_count": 8,
     "metadata": {},
     "output_type": "execute_result"
    }
   ],
   "source": [
    "# Check for null data\n",
    "loan_df.isnull().sum()"
   ]
  },
  {
   "cell_type": "code",
   "execution_count": 9,
   "id": "e2cc2f8d-97d6-450e-9e9b-ddda9588f761",
   "metadata": {},
   "outputs": [
    {
     "data": {
      "text/plain": [
       "deny       53\n",
       "approve    47\n",
       "Name: status, dtype: int64"
      ]
     },
     "execution_count": 9,
     "metadata": {},
     "output_type": "execute_result"
    }
   ],
   "source": [
    "# Check for distribution of target column - in this case the status column\n",
    "loan_df['status'].value_counts()"
   ]
  },
  {
   "cell_type": "code",
   "execution_count": 13,
   "id": "e7e6dce2-d14a-4f49-b035-e3f7ccc1dc0f",
   "metadata": {},
   "outputs": [],
   "source": [
    "# The distribution of targets are relatively close. This can be a good sign of a great prediction model in the making."
   ]
  },
  {
   "cell_type": "code",
   "execution_count": 14,
   "id": "c5631be3-eb67-47f5-b761-b6d641907416",
   "metadata": {},
   "outputs": [
    {
     "data": {
      "text/html": [
       "<div>\n",
       "<style scoped>\n",
       "    .dataframe tbody tr th:only-of-type {\n",
       "        vertical-align: middle;\n",
       "    }\n",
       "\n",
       "    .dataframe tbody tr th {\n",
       "        vertical-align: top;\n",
       "    }\n",
       "\n",
       "    .dataframe thead th {\n",
       "        text-align: right;\n",
       "    }\n",
       "</style>\n",
       "<table border=\"1\" class=\"dataframe\">\n",
       "  <thead>\n",
       "    <tr style=\"text-align: right;\">\n",
       "      <th></th>\n",
       "      <th>assets</th>\n",
       "      <th>liabilities</th>\n",
       "      <th>income</th>\n",
       "      <th>credit_score</th>\n",
       "      <th>mortgage</th>\n",
       "    </tr>\n",
       "    <tr>\n",
       "      <th>status</th>\n",
       "      <th></th>\n",
       "      <th></th>\n",
       "      <th></th>\n",
       "      <th></th>\n",
       "      <th></th>\n",
       "    </tr>\n",
       "  </thead>\n",
       "  <tbody>\n",
       "    <tr>\n",
       "      <th>approve</th>\n",
       "      <td>0.443889</td>\n",
       "      <td>0.496999</td>\n",
       "      <td>0.600641</td>\n",
       "      <td>0.502527</td>\n",
       "      <td>0.456975</td>\n",
       "    </tr>\n",
       "    <tr>\n",
       "      <th>deny</th>\n",
       "      <td>0.375839</td>\n",
       "      <td>0.406047</td>\n",
       "      <td>0.572761</td>\n",
       "      <td>0.520653</td>\n",
       "      <td>0.389728</td>\n",
       "    </tr>\n",
       "  </tbody>\n",
       "</table>\n",
       "</div>"
      ],
      "text/plain": [
       "           assets  liabilities    income  credit_score  mortgage\n",
       "status                                                          \n",
       "approve  0.443889     0.496999  0.600641      0.502527  0.456975\n",
       "deny     0.375839     0.406047  0.572761      0.520653  0.389728"
      ]
     },
     "execution_count": 14,
     "metadata": {},
     "output_type": "execute_result"
    }
   ],
   "source": [
    "# Check for the mean across features\n",
    "loan_df.groupby(['status']).mean()"
   ]
  },
  {
   "cell_type": "code",
   "execution_count": 15,
   "id": "bf4cc0cc-fe1c-459f-ac45-7179bc16ba56",
   "metadata": {},
   "outputs": [],
   "source": [
    "# The mean across features based on target look distinct enough. This can be a good sign of a great prediction model in the making. "
   ]
  },
  {
   "cell_type": "code",
   "execution_count": 17,
   "id": "41e77d62-e1f4-4712-a59b-cea9ed1db740",
   "metadata": {},
   "outputs": [],
   "source": [
    "# We do not need Standard Scaler here because the means across features seem to be all in similar range."
   ]
  },
  {
   "cell_type": "code",
   "execution_count": 18,
   "id": "a159f814-ddb1-4578-996d-67841a294982",
   "metadata": {},
   "outputs": [],
   "source": [
    "# Define X and Y in terms of features and target\n",
    "X = loan_df.drop(columns=['status'], axis=1)\n",
    "Y = loan_df['status']"
   ]
  },
  {
   "cell_type": "code",
   "execution_count": 27,
   "id": "d5822010-b1b0-4311-ba0d-464fc1a2f382",
   "metadata": {},
   "outputs": [],
   "source": [
    "# Split the data between training and testing dataset\n",
    "X_train, X_test, Y_train, Y_test = train_test_split(X, Y, stratify=Y, test_size=0.1, random_state=1)"
   ]
  },
  {
   "cell_type": "code",
   "execution_count": 28,
   "id": "a3f7c29a-49c0-411a-9644-d8fb5ef11a6d",
   "metadata": {},
   "outputs": [],
   "source": [
    "# Define model\n",
    "model = LogisticRegression()"
   ]
  },
  {
   "cell_type": "code",
   "execution_count": 29,
   "id": "86375797-b593-484d-ad0d-768e2dbaa1ae",
   "metadata": {},
   "outputs": [
    {
     "data": {
      "text/plain": [
       "LogisticRegression()"
      ]
     },
     "execution_count": 29,
     "metadata": {},
     "output_type": "execute_result"
    }
   ],
   "source": [
    "# Fit X_train and Y_train into the model\n",
    "model.fit(X_train, Y_train)"
   ]
  },
  {
   "cell_type": "code",
   "execution_count": 31,
   "id": "bc315ef4-8fad-4eae-8397-9a765eb7a59a",
   "metadata": {},
   "outputs": [
    {
     "name": "stdout",
     "output_type": "stream",
     "text": [
      "The training accuracy score is : 53.33%\n"
     ]
    }
   ],
   "source": [
    "# Determine the accuracy based on model prediction for training data\n",
    "training_data_prediction = model.predict(X_train)\n",
    "training_data_accuracy_score = accuracy_score(training_data_prediction, Y_train)\n",
    "\n",
    "# Display Training Accuracy Score\n",
    "print(f'The training accuracy score is : {round(training_data_accuracy_score,4)*100}%')"
   ]
  },
  {
   "cell_type": "code",
   "execution_count": 34,
   "id": "95448670-a84d-412d-8932-510f3801ea53",
   "metadata": {},
   "outputs": [
    {
     "name": "stdout",
     "output_type": "stream",
     "text": [
      "The testing accuracy score is : 60.0%\n"
     ]
    }
   ],
   "source": [
    "# Determine the accuracy based on model prediction for testing data\n",
    "testing_data_prediction = model.predict(X_test)\n",
    "testing_data_accuracy_score = accuracy_score(testing_data_prediction, Y_test)\n",
    "\n",
    "# Display Training Accuracy Score\n",
    "print(f'The testing accuracy score is : {round(testing_data_accuracy_score,4)*100}%')"
   ]
  },
  {
   "cell_type": "code",
   "execution_count": 40,
   "id": "a1455e0e-9239-4f9c-bf88-7618e7879b0d",
   "metadata": {},
   "outputs": [
    {
     "name": "stdout",
     "output_type": "stream",
     "text": [
      "Loan has been denied.\n"
     ]
    }
   ],
   "source": [
    "# Import ignore warnings\n",
    "import warnings\n",
    "warnings.filterwarnings('ignore')\n",
    "# Create a prediction system\n",
    "input = (0.21085933994821096,0.4528654325371546,0.28136746009933805,0.6280387916106287,0.302681967156299)\n",
    "input_asarray = np.asarray(input)\n",
    "input_reshaped = input_asarray.reshape(1,-1)\n",
    "\n",
    "prediction_1 = model.predict(input_reshaped)\n",
    "\n",
    "if prediction_1 == 'deny':\n",
    "    print('Loan has been denied.')\n",
    "else:\n",
    "    print('Loan has been approved.')"
   ]
  },
  {
   "cell_type": "code",
   "execution_count": 42,
   "id": "f0b4aa2f-1f1f-49c1-9267-71bf938e3a35",
   "metadata": {},
   "outputs": [
    {
     "data": {
      "text/html": [
       "<div>\n",
       "<style scoped>\n",
       "    .dataframe tbody tr th:only-of-type {\n",
       "        vertical-align: middle;\n",
       "    }\n",
       "\n",
       "    .dataframe tbody tr th {\n",
       "        vertical-align: top;\n",
       "    }\n",
       "\n",
       "    .dataframe thead th {\n",
       "        text-align: right;\n",
       "    }\n",
       "</style>\n",
       "<table border=\"1\" class=\"dataframe\">\n",
       "  <thead>\n",
       "    <tr style=\"text-align: right;\">\n",
       "      <th></th>\n",
       "      <th>Prediction</th>\n",
       "      <th>Actual</th>\n",
       "    </tr>\n",
       "  </thead>\n",
       "  <tbody>\n",
       "    <tr>\n",
       "      <th>0</th>\n",
       "      <td>approve</td>\n",
       "      <td>approve</td>\n",
       "    </tr>\n",
       "    <tr>\n",
       "      <th>1</th>\n",
       "      <td>approve</td>\n",
       "      <td>deny</td>\n",
       "    </tr>\n",
       "    <tr>\n",
       "      <th>2</th>\n",
       "      <td>deny</td>\n",
       "      <td>approve</td>\n",
       "    </tr>\n",
       "    <tr>\n",
       "      <th>3</th>\n",
       "      <td>deny</td>\n",
       "      <td>approve</td>\n",
       "    </tr>\n",
       "    <tr>\n",
       "      <th>4</th>\n",
       "      <td>deny</td>\n",
       "      <td>deny</td>\n",
       "    </tr>\n",
       "  </tbody>\n",
       "</table>\n",
       "</div>"
      ],
      "text/plain": [
       "  Prediction   Actual\n",
       "0    approve  approve\n",
       "1    approve     deny\n",
       "2       deny  approve\n",
       "3       deny  approve\n",
       "4       deny     deny"
      ]
     },
     "execution_count": 42,
     "metadata": {},
     "output_type": "execute_result"
    }
   ],
   "source": [
    "# Check Results of the validation or testing data\n",
    "results = pd.DataFrame({'Prediction': testing_data_prediction,\n",
    "                        'Actual': Y_test}).reset_index(drop=True)\n",
    "\n",
    "results.head()"
   ]
  },
  {
   "cell_type": "code",
   "execution_count": 44,
   "id": "1d7248c7-2989-427c-8e90-6ec0400a2443",
   "metadata": {},
   "outputs": [
    {
     "data": {
      "text/plain": [
       "array([[2, 3],\n",
       "       [1, 4]], dtype=int64)"
      ]
     },
     "execution_count": 44,
     "metadata": {},
     "output_type": "execute_result"
    }
   ],
   "source": [
    "# Confusion Matrix\n",
    "from sklearn.metrics import confusion_matrix\n",
    "confusion_matrix(Y_test, testing_data_prediction)"
   ]
  },
  {
   "cell_type": "code",
   "execution_count": 46,
   "id": "f73cb152-35f1-4e9c-bf57-b02ce2d60898",
   "metadata": {},
   "outputs": [
    {
     "name": "stdout",
     "output_type": "stream",
     "text": [
      "              precision    recall  f1-score   support\n",
      "\n",
      "     approve       0.67      0.40      0.50         5\n",
      "        deny       0.57      0.80      0.67         5\n",
      "\n",
      "    accuracy                           0.60        10\n",
      "   macro avg       0.62      0.60      0.58        10\n",
      "weighted avg       0.62      0.60      0.58        10\n",
      "\n"
     ]
    }
   ],
   "source": [
    "# Classification Report\n",
    "from sklearn.metrics import classification_report\n",
    "print(classification_report(Y_test, testing_data_prediction))"
   ]
  },
  {
   "cell_type": "code",
   "execution_count": null,
   "id": "645bf83b-5532-42b4-a81e-17a1f6985213",
   "metadata": {},
   "outputs": [],
   "source": []
  }
 ],
 "metadata": {
  "kernelspec": {
   "display_name": "Python 3 (ipykernel)",
   "language": "python",
   "name": "python3"
  },
  "language_info": {
   "codemirror_mode": {
    "name": "ipython",
    "version": 3
   },
   "file_extension": ".py",
   "mimetype": "text/x-python",
   "name": "python",
   "nbconvert_exporter": "python",
   "pygments_lexer": "ipython3",
   "version": "3.7.13"
  }
 },
 "nbformat": 4,
 "nbformat_minor": 5
}
